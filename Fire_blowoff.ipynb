{
 "metadata": {
  "name": ""
 },
 "nbformat": 3,
 "nbformat_minor": 0,
 "worksheets": [
  {
   "cells": [
    {
     "cell_type": "heading",
     "level": 1,
     "metadata": {},
     "source": [
      "Using a reduced fire to apply the finite rate combustion model with DNS"
     ]
    },
    {
     "cell_type": "markdown",
     "metadata": {},
     "source": [
      "* To reduced the fire into a smaller scale while control the L/D\n",
      "\n",
      "* From \n",
      "    $\\frac{L}{D}=-1.02+3.7\\dot{Q}^{*\\frac{2}{5}}$\n",
      "\n",
      "* We should keep the same value of $\\dot{Q}^*$\n",
      "\n",
      "    $$\\dot{Q}^*=\\frac{\\dot{Q}}{\\rho _\\infty c_p T_\\infty \\sqrt{g} D^\\frac{5}{2}}$$\n",
      "***    \n",
      "$\\dot{Q}_{full}=21.85kw$, $\\dot{Q}^*=6.22$, $L/D=6.67$\n",
      "\n",
      "***\n",
      "reduce the scale as 1/4  \n",
      "\n",
      "$\\dot{Q}_{red}=0.68kw$, $L_s=0.022$, $q=\\dot{Q}_{red}/{L_s} ^2 = 1285kw/m^2$\n",
      "\n",
      "\n",
      "\n"
     ]
    },
    {
     "cell_type": "code",
     "collapsed": false,
     "input": [
      "%pylab inline\n",
      "import numpy as np\n",
      "import scipy as sp\n",
      "import pandas as pd"
     ],
     "language": "python",
     "metadata": {},
     "outputs": [
      {
       "output_type": "stream",
       "stream": "stdout",
       "text": [
        "Populating the interactive namespace from numpy and matplotlib\n"
       ]
      }
     ],
     "prompt_number": 2
    },
    {
     "cell_type": "code",
     "collapsed": false,
     "input": [
      "q=21.85/(1.21*293*sqrt(9.81)*0.1**2.5)\n",
      "q"
     ],
     "language": "python",
     "metadata": {},
     "outputs": [
      {
       "metadata": {},
       "output_type": "pyout",
       "prompt_number": 18,
       "text": [
        "6.2224862691526388"
       ]
      }
     ],
     "prompt_number": 18
    },
    {
     "cell_type": "code",
     "collapsed": false,
     "input": [
      "q**0.4*3.7-1.02"
     ],
     "language": "python",
     "metadata": {},
     "outputs": [
      {
       "metadata": {},
       "output_type": "pyout",
       "prompt_number": 19,
       "text": [
        "6.6675384834329403"
       ]
      }
     ],
     "prompt_number": 19
    },
    {
     "cell_type": "code",
     "collapsed": false,
     "input": [
      "#1/2\n",
      "21.85*0.25**2.5\n"
     ],
     "language": "python",
     "metadata": {},
     "outputs": [
      {
       "metadata": {},
       "output_type": "pyout",
       "prompt_number": 24,
       "text": [
        "0.6828125"
       ]
      }
     ],
     "prompt_number": 24
    },
    {
     "cell_type": "code",
     "collapsed": false,
     "input": [
      "0.68/0.023**2"
     ],
     "language": "python",
     "metadata": {},
     "outputs": [
      {
       "metadata": {},
       "output_type": "pyout",
       "prompt_number": 25,
       "text": [
        "1285.4442344045372"
       ]
      }
     ],
     "prompt_number": 25
    }
   ],
   "metadata": {}
  }
 ]
}