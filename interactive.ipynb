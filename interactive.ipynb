{
 "metadata": {
  "name": "",
  "signature": "sha256:ddb9f7dda921389264694bd3b9da4932b160a7eba29016db994f9dee46fe3d86"
 },
 "nbformat": 3,
 "nbformat_minor": 0,
 "worksheets": [
  {
   "cells": [
    {
     "cell_type": "code",
     "collapsed": false,
     "input": [
      "%pylab inline\n",
      "#import matplotlib.gridspec as gridspec # subplots\n",
      "import numpy as np\n",
      "import plotly.plotly as py\n",
      "#import plotly.tools as tls\n",
      "#from plotly.graph_objs import *\n",
      "py.sign_in('cooperhe', '6imiwcs2im')"
     ],
     "language": "python",
     "metadata": {},
     "outputs": []
    },
    {
     "cell_type": "code",
     "collapsed": false,
     "input": [
      "fig1 = plt.figure()\n",
      "\n",
      "t1 = np.arange(0.0, 2.0, 0.1)\n",
      "t2 = np.arange(0.0, 2.0, 0.01)\n",
      "\n",
      "# note that plot returns a list of lines.  The \"l1, = plot\" usage\n",
      "# extracts the first element of the list into l1 using tuple\n",
      "# unpacking.  So l1 is a Line2D instance, not a sequence of lines\n",
      "l1, = plot(t2, np.exp(-t2))\n",
      "l2, l3 = plot(t2, np.sin(2 * np.pi * t2), '--go', t1, np.log(1 + t1), '.')\n",
      "l4, = plot(t2, np.exp(-t2) * np.sin(2 * np.pi * t2), 'rs-.')\n",
      "\n",
      "xlabel('time')\n",
      "ylabel('volts')\n",
      "title('Damped oscillation')\n",
      "\n",
      "show()"
     ],
     "language": "python",
     "metadata": {},
     "outputs": []
    },
    {
     "cell_type": "code",
     "collapsed": false,
     "input": [
      "py.iplot_mpl(fig1)"
     ],
     "language": "python",
     "metadata": {},
     "outputs": []
    },
    {
     "cell_type": "code",
     "collapsed": false,
     "input": [
      "from IPython.html.widgets import interact\n",
      "\n",
      "def plot_sin(a,b):\n",
      "    x=np.linspace(0, 2*np.pi, 20)\n",
      "    y=a*np.sin(x/b)\n",
      "    plot(x,y,'r-')\n",
      "    \n",
      "interact(plot_sin, a=(0, 10, 0.1), b=(0,10,0.1));"
     ],
     "language": "python",
     "metadata": {},
     "outputs": []
    },
    {
     "cell_type": "code",
     "collapsed": false,
     "input": [],
     "language": "python",
     "metadata": {},
     "outputs": []
    }
   ],
   "metadata": {}
  }
 ]
}